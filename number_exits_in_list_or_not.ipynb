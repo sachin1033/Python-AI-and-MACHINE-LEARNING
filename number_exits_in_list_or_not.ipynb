{
  "nbformat": 4,
  "nbformat_minor": 0,
  "metadata": {
    "colab": {
      "name": "number exits in list or not",
      "provenance": [],
      "authorship_tag": "ABX9TyPX5RXACqdSmOtFRmiAwyG9",
      "include_colab_link": true
    },
    "kernelspec": {
      "name": "python3",
      "display_name": "Python 3"
    },
    "language_info": {
      "name": "python"
    }
  },
  "cells": [
    {
      "cell_type": "markdown",
      "metadata": {
        "id": "view-in-github",
        "colab_type": "text"
      },
      "source": [
        "<a href=\"https://colab.research.google.com/github/sachin1033/Python-AI-and-MACHINE-LEARNING/blob/main/number_exits_in_list_or_not.ipynb\" target=\"_parent\"><img src=\"https://colab.research.google.com/assets/colab-badge.svg\" alt=\"Open In Colab\"/></a>"
      ]
    },
    {
      "cell_type": "code",
      "metadata": {
        "id": "y3IPNfChXa4s",
        "outputId": "4826c4c0-27cc-468d-df98-cd76cca75635",
        "colab": {
          "base_uri": "https://localhost:8080/"
        }
      },
      "source": [
        "list=[4,5,6,7]\n",
        "for i in list:\n",
        "  if i==5:\n",
        "    print('exists')\n",
        "    break\n",
        "else:\n",
        "  print('not exists')"
      ],
      "execution_count": 35,
      "outputs": [
        {
          "output_type": "stream",
          "text": [
            "exists\n"
          ],
          "name": "stdout"
        }
      ]
    },
    {
      "cell_type": "code",
      "metadata": {
        "id": "ag_7Fa0TXucR"
      },
      "source": [
        ""
      ],
      "execution_count": null,
      "outputs": []
    }
  ]
}
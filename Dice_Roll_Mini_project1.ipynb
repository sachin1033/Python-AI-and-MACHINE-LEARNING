{
  "nbformat": 4,
  "nbformat_minor": 0,
  "metadata": {
    "colab": {
      "name": "Dice Roll Mini project",
      "provenance": [],
      "authorship_tag": "ABX9TyNP2ev36qCHZHAZ1d50nmkt",
      "include_colab_link": true
    },
    "kernelspec": {
      "display_name": "Python 3",
      "name": "python3"
    },
    "language_info": {
      "name": "python"
    }
  },
  "cells": [
    {
      "cell_type": "markdown",
      "metadata": {
        "id": "view-in-github",
        "colab_type": "text"
      },
      "source": [
        "<a href=\"https://colab.research.google.com/github/sachin1033/Python-AI-and-MACHINE-LEARNING/blob/main/Dice_Roll_Mini_project1.ipynb\" target=\"_parent\"><img src=\"https://colab.research.google.com/assets/colab-badge.svg\" alt=\"Open In Colab\"/></a>"
      ]
    },
    {
      "cell_type": "code",
      "metadata": {
        "colab": {
          "base_uri": "https://localhost:8080/"
        },
        "id": "9IWQOziOZEwL",
        "outputId": "e7b0b7ec-0ce2-4a0e-bf39-e970c7b6bf96"
      },
      "source": [
        "import numpy as  np\n",
        "import random\n",
        "while True:\n",
        "  print('''1.roll the dice      2.end    ''')\n",
        "  user=int(input('what do you want\\n'))\n",
        "  if user==1:\n",
        "    number=random.randint(1,6)\n",
        "    print(number)\n",
        "    continue\n",
        "  if user>number:\n",
        "    print('try again')\n",
        "  else:\n",
        "    break\n",
        "  "
      ],
      "execution_count": 5,
      "outputs": [
        {
          "output_type": "stream",
          "text": [
            "1.roll the dice      2.end    \n",
            "what do you want\n",
            "1\n",
            "6\n",
            "1.roll the dice      2.end    \n",
            "what do you want\n",
            "1\n",
            "4\n",
            "1.roll the dice      2.end    \n",
            "what do you want\n",
            "9\n",
            "try again\n",
            "1.roll the dice      2.end    \n",
            "what do you want\n",
            "2\n"
          ],
          "name": "stdout"
        }
      ]
    },
    {
      "cell_type": "code",
      "metadata": {
        "id": "bJqSZbgJaEP6",
        "colab": {
          "base_uri": "https://localhost:8080/",
          "height": 135
        },
        "outputId": "6da718cd-2d5b-4d3a-85c1-2b8b10231ba9"
      },
      "source": [
        "1\n",
        "1"
      ],
      "execution_count": 12,
      "outputs": [
        {
          "output_type": "error",
          "ename": "SyntaxError",
          "evalue": "ignored",
          "traceback": [
            "\u001b[0;36m  File \u001b[0;32m\"<ipython-input-12-13d4f91b5cac>\"\u001b[0;36m, line \u001b[0;32m2\u001b[0m\n\u001b[0;31m    1import random\u001b[0m\n\u001b[0m          ^\u001b[0m\n\u001b[0;31mSyntaxError\u001b[0m\u001b[0;31m:\u001b[0m invalid syntax\n"
          ]
        }
      ]
    },
    {
      "cell_type": "code",
      "metadata": {
        "id": "s2vvh6bXZQcs"
      },
      "source": [
        ""
      ],
      "execution_count": null,
      "outputs": []
    }
  ]
}
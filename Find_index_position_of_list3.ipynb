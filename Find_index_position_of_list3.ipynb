{
  "nbformat": 4,
  "nbformat_minor": 0,
  "metadata": {
    "colab": {
      "name": "Find index position of list",
      "provenance": [],
      "collapsed_sections": [],
      "authorship_tag": "ABX9TyNC3EzC43vSn+cfWqsGFtI4",
      "include_colab_link": true
    },
    "kernelspec": {
      "name": "python3",
      "display_name": "Python 3"
    },
    "language_info": {
      "name": "python"
    }
  },
  "cells": [
    {
      "cell_type": "markdown",
      "metadata": {
        "id": "view-in-github",
        "colab_type": "text"
      },
      "source": [
        "<a href=\"https://colab.research.google.com/github/sachin1033/Python-AI-and-MACHINE-LEARNING/blob/main/Find_index_position_of_list3.ipynb\" target=\"_parent\"><img src=\"https://colab.research.google.com/assets/colab-badge.svg\" alt=\"Open In Colab\"/></a>"
      ]
    },
    {
      "cell_type": "code",
      "metadata": {
        "colab": {
          "base_uri": "https://localhost:8080/"
        },
        "id": "Fy3yTe_ACM70",
        "outputId": "4069c291-20e7-45bc-a0dc-d4a5cad29f7d"
      },
      "source": [
        "#find a number\n",
        "a=[1,2,3,5,6,7,8,9,10]\n",
        "i=0\n",
        "user=int(input('enter a number'))\n",
        "for i in a:\n",
        "  if i==user:\n",
        "    i+=1\n",
        "    print('the number is there')\n",
        "    break\n",
        "else:\n",
        "    print('not found')"
      ],
      "execution_count": 94,
      "outputs": [
        {
          "output_type": "stream",
          "text": [
            "enter a number2\n",
            "the number is there\n"
          ],
          "name": "stdout"
        }
      ]
    },
    {
      "cell_type": "code",
      "metadata": {
        "colab": {
          "base_uri": "https://localhost:8080/"
        },
        "id": "V2VgdfijFrT5",
        "outputId": "59e2caaa-429f-42f0-d806-37a7737e1617"
      },
      "source": [
        "#finding a number in list with its index position\n",
        "line=[1,2,3,4,5,6,7,8,9,11,10,12]\n",
        "line.sort()\n",
        "front=0\n",
        "end=len(line)-1\n",
        "middle=(front+end)//2\n",
        "user=int(input('enter a number'))\n",
        "found=False\n",
        "while (front<=end and not found):\n",
        "  middle=(front+end)//2\n",
        "  if line[middle]==user:\n",
        "    print(f'the number found at index position {middle}')\n",
        "    found=True\n",
        "  else:\n",
        "    if user<line[middle]:\n",
        "      end-=1\n",
        "    else:\n",
        "      front+=1\n",
        "if found==False:\n",
        "  print(\"No such number in the list line\")"
      ],
      "execution_count": 104,
      "outputs": [
        {
          "output_type": "stream",
          "text": [
            "enter a number10\n",
            "the number found at index position 9\n"
          ],
          "name": "stdout"
        }
      ]
    },
    {
      "cell_type": "code",
      "metadata": {
        "id": "h1kbY-IASP9m"
      },
      "source": [
        ""
      ],
      "execution_count": null,
      "outputs": []
    }
  ]
}
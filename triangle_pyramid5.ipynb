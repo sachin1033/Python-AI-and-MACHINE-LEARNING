{
  "nbformat": 4,
  "nbformat_minor": 0,
  "metadata": {
    "colab": {
      "name": "triangle pyramid",
      "provenance": [],
      "collapsed_sections": [],
      "authorship_tag": "ABX9TyNl28yaeyiFOVTupCLE53Xs",
      "include_colab_link": true
    },
    "kernelspec": {
      "name": "python3",
      "display_name": "Python 3"
    },
    "language_info": {
      "name": "python"
    }
  },
  "cells": [
    {
      "cell_type": "markdown",
      "metadata": {
        "id": "view-in-github",
        "colab_type": "text"
      },
      "source": [
        "<a href=\"https://colab.research.google.com/github/sachin1033/Python-AI-and-MACHINE-LEARNING/blob/main/triangle_pyramid5.ipynb\" target=\"_parent\"><img src=\"https://colab.research.google.com/assets/colab-badge.svg\" alt=\"Open In Colab\"/></a>"
      ]
    },
    {
      "cell_type": "code",
      "metadata": {
        "colab": {
          "base_uri": "https://localhost:8080/"
        },
        "id": "ryaz80hG7j5Q",
        "outputId": "deae5e80-90e7-45be-fd6f-249a55d4a3f0"
      },
      "source": [
        "def pyfunc(r):\n",
        "    for x in range(r):\n",
        "        print(' '*(r-x-1)+'*'*(2*x+1))    \n",
        "pyfunc(9)"
      ],
      "execution_count": 3,
      "outputs": [
        {
          "output_type": "stream",
          "text": [
            "        *\n",
            "       ***\n",
            "      *****\n",
            "     *******\n",
            "    *********\n",
            "   ***********\n",
            "  *************\n",
            " ***************\n",
            "*****************\n"
          ],
          "name": "stdout"
        }
      ]
    },
    {
      "cell_type": "code",
      "metadata": {
        "colab": {
          "base_uri": "https://localhost:8080/"
        },
        "id": "3-p66eYL8zuA",
        "outputId": "2546535f-3db7-4fc2-b864-7b6cac72db69"
      },
      "source": [
        "def func(x):\n",
        "  for i in range(x):\n",
        "    print(' '*(x-i-1)+'<'*(2*i+1))\n",
        "func(10)"
      ],
      "execution_count": 13,
      "outputs": [
        {
          "output_type": "stream",
          "text": [
            "         <\n",
            "        <<<\n",
            "       <<<<<\n",
            "      <<<<<<<\n",
            "     <<<<<<<<<\n",
            "    <<<<<<<<<<<\n",
            "   <<<<<<<<<<<<<\n",
            "  <<<<<<<<<<<<<<<\n",
            " <<<<<<<<<<<<<<<<<\n",
            "<<<<<<<<<<<<<<<<<<<\n"
          ],
          "name": "stdout"
        }
      ]
    },
    {
      "cell_type": "code",
      "metadata": {
        "colab": {
          "base_uri": "https://localhost:8080/"
        },
        "id": "JtVYqzyL-Afv",
        "outputId": "6c93ba76-1b18-4770-b19c-a7a59a889312"
      },
      "source": [
        "def fun(x):\n",
        "  for y in range(x):\n",
        "    print(' '*(x-y-1)+'+'*(2*y+1))\n",
        "fun(10)"
      ],
      "execution_count": 22,
      "outputs": [
        {
          "output_type": "stream",
          "text": [
            "         +\n",
            "        +++\n",
            "       +++++\n",
            "      +++++++\n",
            "     +++++++++\n",
            "    +++++++++++\n",
            "   +++++++++++++\n",
            "  +++++++++++++++\n",
            " +++++++++++++++++\n",
            "+++++++++++++++++++\n"
          ],
          "name": "stdout"
        }
      ]
    },
    {
      "cell_type": "code",
      "metadata": {
        "id": "cuJ--bHa_hy-"
      },
      "source": [
        ""
      ],
      "execution_count": null,
      "outputs": []
    }
  ]
}
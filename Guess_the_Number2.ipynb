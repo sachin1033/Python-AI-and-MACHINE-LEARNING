{
  "nbformat": 4,
  "nbformat_minor": 0,
  "metadata": {
    "colab": {
      "name": "Guess the Number",
      "provenance": [],
      "collapsed_sections": [],
      "authorship_tag": "ABX9TyPIQbewFJKLgOwYa5hnBQjV",
      "include_colab_link": true
    },
    "kernelspec": {
      "display_name": "Python 3",
      "name": "python3"
    },
    "language_info": {
      "name": "python"
    }
  },
  "cells": [
    {
      "cell_type": "markdown",
      "metadata": {
        "id": "view-in-github",
        "colab_type": "text"
      },
      "source": [
        "<a href=\"https://colab.research.google.com/github/sachin1033/Python-AI-and-MACHINE-LEARNING/blob/main/Guess_the_Number2.ipynb\" target=\"_parent\"><img src=\"https://colab.research.google.com/assets/colab-badge.svg\" alt=\"Open In Colab\"/></a>"
      ]
    },
    {
      "cell_type": "code",
      "metadata": {
        "colab": {
          "base_uri": "https://localhost:8080/"
        },
        "id": "-9R4S6wBgeoK",
        "outputId": "fe6da9ab-c3c8-4618-bfaf-946a316c342f"
      },
      "source": [
        "import random\n",
        "number=random.randint(1,2000000000000000000000000000000)\n",
        "for i in range(0,5):\n",
        "  user=int(input('guess the number'))\n",
        "  if user==number:\n",
        "    print('Hurray')\n",
        "    print(f'the number guessed is correct its {number}')\n",
        "    break\n",
        "if user!=number:\n",
        "    print(f'its incorrect the number was {number}')"
      ],
      "execution_count": 1,
      "outputs": [
        {
          "output_type": "stream",
          "text": [
            "guess the number3\n",
            "guess the number16\n",
            "guess the number18\n",
            "guess the number20\n",
            "guess the number8\n",
            "its incorrect the number was 1287340712691246399317381523434\n"
          ],
          "name": "stdout"
        }
      ]
    },
    {
      "cell_type": "code",
      "metadata": {
        "colab": {
          "base_uri": "https://localhost:8080/"
        },
        "id": "LSDQB6vm3e4e",
        "outputId": "ca86980b-4a54-4f62-95bb-6c35dcc716f8"
      },
      "source": [
        "#int or not\n",
        "while True:\n",
        "  user=input()\n",
        "  try:\n",
        "    user=int(user)\n",
        "    print('c')\n",
        "    break\n",
        "  except:\n",
        "    print('ic')\n",
        "    continue\n"
      ],
      "execution_count": 4,
      "outputs": [
        {
          "output_type": "stream",
          "text": [
            "g\n",
            "ic\n",
            "f\n",
            "ic\n",
            "1\n",
            "c\n"
          ],
          "name": "stdout"
        }
      ]
    }
  ]
}
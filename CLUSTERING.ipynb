{
  "nbformat": 4,
  "nbformat_minor": 0,
  "metadata": {
    "colab": {
      "name": "CLUSTERING ",
      "provenance": [],
      "collapsed_sections": [],
      "authorship_tag": "ABX9TyNHT97/PQ49brlXTSn/nHsK",
      "include_colab_link": true
    },
    "kernelspec": {
      "name": "python3",
      "display_name": "Python 3"
    }
  },
  "cells": [
    {
      "cell_type": "markdown",
      "metadata": {
        "id": "view-in-github",
        "colab_type": "text"
      },
      "source": [
        "<a href=\"https://colab.research.google.com/github/sachin1033/sachin-chavan1/blob/main/CLUSTERING.ipynb\" target=\"_parent\"><img src=\"https://colab.research.google.com/assets/colab-badge.svg\" alt=\"Open In Colab\"/></a>"
      ]
    },
    {
      "cell_type": "code",
      "metadata": {
        "id": "VLfKks44rtXR",
        "colab": {
          "resources": {
            "http://localhost:8080/nbextensions/google.colab/files.js": {
              "data": "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",
              "ok": true,
              "headers": [
                [
                  "content-type",
                  "application/javascript"
                ]
              ],
              "status": 200,
              "status_text": ""
            }
          },
          "base_uri": "https://localhost:8080/",
          "height": 72
        },
        "outputId": "d67b1043-81b9-41a1-a47d-ac84861c8177"
      },
      "source": [
        "from google.colab import files\r\n",
        "upload=files.upload()"
      ],
      "execution_count": null,
      "outputs": [
        {
          "output_type": "display_data",
          "data": {
            "text/html": [
              "\n",
              "     <input type=\"file\" id=\"files-1f062321-d26e-4dd4-9225-93ecb3d1d97d\" name=\"files[]\" multiple disabled\n",
              "        style=\"border:none\" />\n",
              "     <output id=\"result-1f062321-d26e-4dd4-9225-93ecb3d1d97d\">\n",
              "      Upload widget is only available when the cell has been executed in the\n",
              "      current browser session. Please rerun this cell to enable.\n",
              "      </output>\n",
              "      <script src=\"/nbextensions/google.colab/files.js\"></script> "
            ],
            "text/plain": [
              "<IPython.core.display.HTML object>"
            ]
          },
          "metadata": {
            "tags": []
          }
        },
        {
          "output_type": "stream",
          "text": [
            "Saving Textiles.csv to Textiles.csv\n"
          ],
          "name": "stdout"
        }
      ]
    },
    {
      "cell_type": "code",
      "metadata": {
        "id": "bsw-l2yjM8gv"
      },
      "source": [
        " import pandas as pd\r\n",
        " df=pd.read_csv('Textiles.csv')"
      ],
      "execution_count": null,
      "outputs": []
    },
    {
      "cell_type": "code",
      "metadata": {
        "colab": {
          "base_uri": "https://localhost:8080/",
          "height": 669
        },
        "id": "UiZHJmhtNKmu",
        "outputId": "50d16cc5-dda0-4771-b20b-92a588dab5f3"
      },
      "source": [
        "df"
      ],
      "execution_count": null,
      "outputs": [
        {
          "output_type": "execute_result",
          "data": {
            "text/html": [
              "<div>\n",
              "<style scoped>\n",
              "    .dataframe tbody tr th:only-of-type {\n",
              "        vertical-align: middle;\n",
              "    }\n",
              "\n",
              "    .dataframe tbody tr th {\n",
              "        vertical-align: top;\n",
              "    }\n",
              "\n",
              "    .dataframe thead th {\n",
              "        text-align: right;\n",
              "    }\n",
              "</style>\n",
              "<table border=\"1\" class=\"dataframe\">\n",
              "  <thead>\n",
              "    <tr style=\"text-align: right;\">\n",
              "      <th></th>\n",
              "      <th>PartnerCountry</th>\n",
              "      <th>PartnerContinent</th>\n",
              "      <th>DevelopmentStatus</th>\n",
              "      <th>AvgExports</th>\n",
              "      <th>MaxExports</th>\n",
              "      <th>AvgGrowth</th>\n",
              "      <th>YrsPositiveGrowth</th>\n",
              "    </tr>\n",
              "  </thead>\n",
              "  <tbody>\n",
              "    <tr>\n",
              "      <th>0</th>\n",
              "      <td>Argentina</td>\n",
              "      <td>South America</td>\n",
              "      <td>Emerging</td>\n",
              "      <td>70630.67</td>\n",
              "      <td>109285.39</td>\n",
              "      <td>19.1779</td>\n",
              "      <td>6</td>\n",
              "    </tr>\n",
              "    <tr>\n",
              "      <th>1</th>\n",
              "      <td>Belgium</td>\n",
              "      <td>Europe</td>\n",
              "      <td>Developed</td>\n",
              "      <td>464622.74</td>\n",
              "      <td>640258.03</td>\n",
              "      <td>9.2133</td>\n",
              "      <td>6</td>\n",
              "    </tr>\n",
              "    <tr>\n",
              "      <th>2</th>\n",
              "      <td>Brazil</td>\n",
              "      <td>South America</td>\n",
              "      <td>Emerging</td>\n",
              "      <td>386897.78</td>\n",
              "      <td>641830.10</td>\n",
              "      <td>28.2631</td>\n",
              "      <td>7</td>\n",
              "    </tr>\n",
              "    <tr>\n",
              "      <th>3</th>\n",
              "      <td>Canada</td>\n",
              "      <td>North America</td>\n",
              "      <td>Developed</td>\n",
              "      <td>414307.57</td>\n",
              "      <td>503770.05</td>\n",
              "      <td>2.4985</td>\n",
              "      <td>3</td>\n",
              "    </tr>\n",
              "    <tr>\n",
              "      <th>4</th>\n",
              "      <td>Chile</td>\n",
              "      <td>South America</td>\n",
              "      <td>Emerging</td>\n",
              "      <td>94519.72</td>\n",
              "      <td>175498.61</td>\n",
              "      <td>20.4567</td>\n",
              "      <td>7</td>\n",
              "    </tr>\n",
              "    <tr>\n",
              "      <th>5</th>\n",
              "      <td>Costa Rica</td>\n",
              "      <td>South America</td>\n",
              "      <td>Emerging</td>\n",
              "      <td>5473.94</td>\n",
              "      <td>11276.39</td>\n",
              "      <td>25.3167</td>\n",
              "      <td>6</td>\n",
              "    </tr>\n",
              "    <tr>\n",
              "      <th>6</th>\n",
              "      <td>Egypt</td>\n",
              "      <td>Africa</td>\n",
              "      <td>Emerging</td>\n",
              "      <td>330738.32</td>\n",
              "      <td>500590.09</td>\n",
              "      <td>15.2469</td>\n",
              "      <td>6</td>\n",
              "    </tr>\n",
              "    <tr>\n",
              "      <th>7</th>\n",
              "      <td>France</td>\n",
              "      <td>Europe</td>\n",
              "      <td>Developed</td>\n",
              "      <td>973831.10</td>\n",
              "      <td>1225212.87</td>\n",
              "      <td>5.8278</td>\n",
              "      <td>7</td>\n",
              "    </tr>\n",
              "    <tr>\n",
              "      <th>8</th>\n",
              "      <td>Germany</td>\n",
              "      <td>Europe</td>\n",
              "      <td>Developed</td>\n",
              "      <td>1656647.42</td>\n",
              "      <td>2214344.41</td>\n",
              "      <td>8.5445</td>\n",
              "      <td>6</td>\n",
              "    </tr>\n",
              "    <tr>\n",
              "      <th>9</th>\n",
              "      <td>Greece</td>\n",
              "      <td>Europe</td>\n",
              "      <td>Developed</td>\n",
              "      <td>63881.00</td>\n",
              "      <td>90058.30</td>\n",
              "      <td>-3.8741</td>\n",
              "      <td>4</td>\n",
              "    </tr>\n",
              "    <tr>\n",
              "      <th>10</th>\n",
              "      <td>Malaysia</td>\n",
              "      <td>Asia</td>\n",
              "      <td>Developed</td>\n",
              "      <td>212026.12</td>\n",
              "      <td>324798.15</td>\n",
              "      <td>13.1637</td>\n",
              "      <td>4</td>\n",
              "    </tr>\n",
              "    <tr>\n",
              "      <th>11</th>\n",
              "      <td>Mauritius</td>\n",
              "      <td>Africa</td>\n",
              "      <td>Emerging</td>\n",
              "      <td>98699.25</td>\n",
              "      <td>138281.28</td>\n",
              "      <td>10.1212</td>\n",
              "      <td>6</td>\n",
              "    </tr>\n",
              "    <tr>\n",
              "      <th>12</th>\n",
              "      <td>Myanmar</td>\n",
              "      <td>Asia</td>\n",
              "      <td>underDeveloped</td>\n",
              "      <td>22656.62</td>\n",
              "      <td>86203.42</td>\n",
              "      <td>75.7078</td>\n",
              "      <td>9</td>\n",
              "    </tr>\n",
              "    <tr>\n",
              "      <th>13</th>\n",
              "      <td>Qatar</td>\n",
              "      <td>Asia</td>\n",
              "      <td>Emerging</td>\n",
              "      <td>23513.59</td>\n",
              "      <td>41186.35</td>\n",
              "      <td>15.5224</td>\n",
              "      <td>8</td>\n",
              "    </tr>\n",
              "    <tr>\n",
              "      <th>14</th>\n",
              "      <td>Romania</td>\n",
              "      <td>Europe</td>\n",
              "      <td>Emerging</td>\n",
              "      <td>24737.27</td>\n",
              "      <td>34353.13</td>\n",
              "      <td>16.1396</td>\n",
              "      <td>5</td>\n",
              "    </tr>\n",
              "    <tr>\n",
              "      <th>15</th>\n",
              "      <td>Somalia</td>\n",
              "      <td>Africa</td>\n",
              "      <td>underDeveloped</td>\n",
              "      <td>978.64</td>\n",
              "      <td>5227.12</td>\n",
              "      <td>104.4926</td>\n",
              "      <td>6</td>\n",
              "    </tr>\n",
              "    <tr>\n",
              "      <th>16</th>\n",
              "      <td>South Africa</td>\n",
              "      <td>Africa</td>\n",
              "      <td>Developed</td>\n",
              "      <td>196280.68</td>\n",
              "      <td>271429.22</td>\n",
              "      <td>7.2108</td>\n",
              "      <td>6</td>\n",
              "    </tr>\n",
              "    <tr>\n",
              "      <th>17</th>\n",
              "      <td>United Arab Emirates</td>\n",
              "      <td>Asia</td>\n",
              "      <td>Emerging</td>\n",
              "      <td>1917422.97</td>\n",
              "      <td>3488284.78</td>\n",
              "      <td>15.2675</td>\n",
              "      <td>7</td>\n",
              "    </tr>\n",
              "    <tr>\n",
              "      <th>18</th>\n",
              "      <td>United Kingdom</td>\n",
              "      <td>Europe</td>\n",
              "      <td>Developed</td>\n",
              "      <td>1872689.51</td>\n",
              "      <td>2549827.40</td>\n",
              "      <td>7.7725</td>\n",
              "      <td>6</td>\n",
              "    </tr>\n",
              "    <tr>\n",
              "      <th>19</th>\n",
              "      <td>United States</td>\n",
              "      <td>North America</td>\n",
              "      <td>Developed</td>\n",
              "      <td>5458587.53</td>\n",
              "      <td>7379737.39</td>\n",
              "      <td>5.8645</td>\n",
              "      <td>5</td>\n",
              "    </tr>\n",
              "  </tbody>\n",
              "</table>\n",
              "</div>"
            ],
            "text/plain": [
              "          PartnerCountry PartnerContinent  ... AvgGrowth  YrsPositiveGrowth\n",
              "0              Argentina    South America  ...   19.1779                  6\n",
              "1                Belgium           Europe  ...    9.2133                  6\n",
              "2                 Brazil    South America  ...   28.2631                  7\n",
              "3                 Canada    North America  ...    2.4985                  3\n",
              "4                  Chile    South America  ...   20.4567                  7\n",
              "5             Costa Rica    South America  ...   25.3167                  6\n",
              "6                  Egypt           Africa  ...   15.2469                  6\n",
              "7                 France           Europe  ...    5.8278                  7\n",
              "8                Germany           Europe  ...    8.5445                  6\n",
              "9                 Greece           Europe  ...   -3.8741                  4\n",
              "10              Malaysia             Asia  ...   13.1637                  4\n",
              "11             Mauritius           Africa  ...   10.1212                  6\n",
              "12               Myanmar             Asia  ...   75.7078                  9\n",
              "13                 Qatar             Asia  ...   15.5224                  8\n",
              "14               Romania           Europe  ...   16.1396                  5\n",
              "15               Somalia           Africa  ...  104.4926                  6\n",
              "16          South Africa           Africa  ...    7.2108                  6\n",
              "17  United Arab Emirates             Asia  ...   15.2675                  7\n",
              "18        United Kingdom           Europe  ...    7.7725                  6\n",
              "19         United States    North America  ...    5.8645                  5\n",
              "\n",
              "[20 rows x 7 columns]"
            ]
          },
          "metadata": {
            "tags": []
          },
          "execution_count": 3
        }
      ]
    },
    {
      "cell_type": "code",
      "metadata": {
        "id": "knv6n6sJNLrF"
      },
      "source": [
        "f=df.iloc[:,:7]\r\n",
        "g=df.iloc[:,-1]"
      ],
      "execution_count": null,
      "outputs": []
    },
    {
      "cell_type": "code",
      "metadata": {
        "colab": {
          "base_uri": "https://localhost:8080/",
          "height": 669
        },
        "id": "aGAbFUTBNaq0",
        "outputId": "12d16263-bd2a-4eae-b740-40c9f0b52adf"
      },
      "source": [
        "x"
      ],
      "execution_count": null,
      "outputs": [
        {
          "output_type": "execute_result",
          "data": {
            "text/html": [
              "<div>\n",
              "<style scoped>\n",
              "    .dataframe tbody tr th:only-of-type {\n",
              "        vertical-align: middle;\n",
              "    }\n",
              "\n",
              "    .dataframe tbody tr th {\n",
              "        vertical-align: top;\n",
              "    }\n",
              "\n",
              "    .dataframe thead th {\n",
              "        text-align: right;\n",
              "    }\n",
              "</style>\n",
              "<table border=\"1\" class=\"dataframe\">\n",
              "  <thead>\n",
              "    <tr style=\"text-align: right;\">\n",
              "      <th></th>\n",
              "      <th>PartnerCountry</th>\n",
              "      <th>PartnerContinent</th>\n",
              "      <th>DevelopmentStatus</th>\n",
              "      <th>AvgExports</th>\n",
              "      <th>MaxExports</th>\n",
              "      <th>AvgGrowth</th>\n",
              "      <th>YrsPositiveGrowth</th>\n",
              "    </tr>\n",
              "  </thead>\n",
              "  <tbody>\n",
              "    <tr>\n",
              "      <th>0</th>\n",
              "      <td>Argentina</td>\n",
              "      <td>South America</td>\n",
              "      <td>Emerging</td>\n",
              "      <td>70630.67</td>\n",
              "      <td>109285.39</td>\n",
              "      <td>19.1779</td>\n",
              "      <td>6</td>\n",
              "    </tr>\n",
              "    <tr>\n",
              "      <th>1</th>\n",
              "      <td>Belgium</td>\n",
              "      <td>Europe</td>\n",
              "      <td>Developed</td>\n",
              "      <td>464622.74</td>\n",
              "      <td>640258.03</td>\n",
              "      <td>9.2133</td>\n",
              "      <td>6</td>\n",
              "    </tr>\n",
              "    <tr>\n",
              "      <th>2</th>\n",
              "      <td>Brazil</td>\n",
              "      <td>South America</td>\n",
              "      <td>Emerging</td>\n",
              "      <td>386897.78</td>\n",
              "      <td>641830.10</td>\n",
              "      <td>28.2631</td>\n",
              "      <td>7</td>\n",
              "    </tr>\n",
              "    <tr>\n",
              "      <th>3</th>\n",
              "      <td>Canada</td>\n",
              "      <td>North America</td>\n",
              "      <td>Developed</td>\n",
              "      <td>414307.57</td>\n",
              "      <td>503770.05</td>\n",
              "      <td>2.4985</td>\n",
              "      <td>3</td>\n",
              "    </tr>\n",
              "    <tr>\n",
              "      <th>4</th>\n",
              "      <td>Chile</td>\n",
              "      <td>South America</td>\n",
              "      <td>Emerging</td>\n",
              "      <td>94519.72</td>\n",
              "      <td>175498.61</td>\n",
              "      <td>20.4567</td>\n",
              "      <td>7</td>\n",
              "    </tr>\n",
              "    <tr>\n",
              "      <th>5</th>\n",
              "      <td>Costa Rica</td>\n",
              "      <td>South America</td>\n",
              "      <td>Emerging</td>\n",
              "      <td>5473.94</td>\n",
              "      <td>11276.39</td>\n",
              "      <td>25.3167</td>\n",
              "      <td>6</td>\n",
              "    </tr>\n",
              "    <tr>\n",
              "      <th>6</th>\n",
              "      <td>Egypt</td>\n",
              "      <td>Africa</td>\n",
              "      <td>Emerging</td>\n",
              "      <td>330738.32</td>\n",
              "      <td>500590.09</td>\n",
              "      <td>15.2469</td>\n",
              "      <td>6</td>\n",
              "    </tr>\n",
              "    <tr>\n",
              "      <th>7</th>\n",
              "      <td>France</td>\n",
              "      <td>Europe</td>\n",
              "      <td>Developed</td>\n",
              "      <td>973831.10</td>\n",
              "      <td>1225212.87</td>\n",
              "      <td>5.8278</td>\n",
              "      <td>7</td>\n",
              "    </tr>\n",
              "    <tr>\n",
              "      <th>8</th>\n",
              "      <td>Germany</td>\n",
              "      <td>Europe</td>\n",
              "      <td>Developed</td>\n",
              "      <td>1656647.42</td>\n",
              "      <td>2214344.41</td>\n",
              "      <td>8.5445</td>\n",
              "      <td>6</td>\n",
              "    </tr>\n",
              "    <tr>\n",
              "      <th>9</th>\n",
              "      <td>Greece</td>\n",
              "      <td>Europe</td>\n",
              "      <td>Developed</td>\n",
              "      <td>63881.00</td>\n",
              "      <td>90058.30</td>\n",
              "      <td>-3.8741</td>\n",
              "      <td>4</td>\n",
              "    </tr>\n",
              "    <tr>\n",
              "      <th>10</th>\n",
              "      <td>Malaysia</td>\n",
              "      <td>Asia</td>\n",
              "      <td>Developed</td>\n",
              "      <td>212026.12</td>\n",
              "      <td>324798.15</td>\n",
              "      <td>13.1637</td>\n",
              "      <td>4</td>\n",
              "    </tr>\n",
              "    <tr>\n",
              "      <th>11</th>\n",
              "      <td>Mauritius</td>\n",
              "      <td>Africa</td>\n",
              "      <td>Emerging</td>\n",
              "      <td>98699.25</td>\n",
              "      <td>138281.28</td>\n",
              "      <td>10.1212</td>\n",
              "      <td>6</td>\n",
              "    </tr>\n",
              "    <tr>\n",
              "      <th>12</th>\n",
              "      <td>Myanmar</td>\n",
              "      <td>Asia</td>\n",
              "      <td>underDeveloped</td>\n",
              "      <td>22656.62</td>\n",
              "      <td>86203.42</td>\n",
              "      <td>75.7078</td>\n",
              "      <td>9</td>\n",
              "    </tr>\n",
              "    <tr>\n",
              "      <th>13</th>\n",
              "      <td>Qatar</td>\n",
              "      <td>Asia</td>\n",
              "      <td>Emerging</td>\n",
              "      <td>23513.59</td>\n",
              "      <td>41186.35</td>\n",
              "      <td>15.5224</td>\n",
              "      <td>8</td>\n",
              "    </tr>\n",
              "    <tr>\n",
              "      <th>14</th>\n",
              "      <td>Romania</td>\n",
              "      <td>Europe</td>\n",
              "      <td>Emerging</td>\n",
              "      <td>24737.27</td>\n",
              "      <td>34353.13</td>\n",
              "      <td>16.1396</td>\n",
              "      <td>5</td>\n",
              "    </tr>\n",
              "    <tr>\n",
              "      <th>15</th>\n",
              "      <td>Somalia</td>\n",
              "      <td>Africa</td>\n",
              "      <td>underDeveloped</td>\n",
              "      <td>978.64</td>\n",
              "      <td>5227.12</td>\n",
              "      <td>104.4926</td>\n",
              "      <td>6</td>\n",
              "    </tr>\n",
              "    <tr>\n",
              "      <th>16</th>\n",
              "      <td>South Africa</td>\n",
              "      <td>Africa</td>\n",
              "      <td>Developed</td>\n",
              "      <td>196280.68</td>\n",
              "      <td>271429.22</td>\n",
              "      <td>7.2108</td>\n",
              "      <td>6</td>\n",
              "    </tr>\n",
              "    <tr>\n",
              "      <th>17</th>\n",
              "      <td>United Arab Emirates</td>\n",
              "      <td>Asia</td>\n",
              "      <td>Emerging</td>\n",
              "      <td>1917422.97</td>\n",
              "      <td>3488284.78</td>\n",
              "      <td>15.2675</td>\n",
              "      <td>7</td>\n",
              "    </tr>\n",
              "    <tr>\n",
              "      <th>18</th>\n",
              "      <td>United Kingdom</td>\n",
              "      <td>Europe</td>\n",
              "      <td>Developed</td>\n",
              "      <td>1872689.51</td>\n",
              "      <td>2549827.40</td>\n",
              "      <td>7.7725</td>\n",
              "      <td>6</td>\n",
              "    </tr>\n",
              "    <tr>\n",
              "      <th>19</th>\n",
              "      <td>United States</td>\n",
              "      <td>North America</td>\n",
              "      <td>Developed</td>\n",
              "      <td>5458587.53</td>\n",
              "      <td>7379737.39</td>\n",
              "      <td>5.8645</td>\n",
              "      <td>5</td>\n",
              "    </tr>\n",
              "  </tbody>\n",
              "</table>\n",
              "</div>"
            ],
            "text/plain": [
              "          PartnerCountry PartnerContinent  ... AvgGrowth  YrsPositiveGrowth\n",
              "0              Argentina    South America  ...   19.1779                  6\n",
              "1                Belgium           Europe  ...    9.2133                  6\n",
              "2                 Brazil    South America  ...   28.2631                  7\n",
              "3                 Canada    North America  ...    2.4985                  3\n",
              "4                  Chile    South America  ...   20.4567                  7\n",
              "5             Costa Rica    South America  ...   25.3167                  6\n",
              "6                  Egypt           Africa  ...   15.2469                  6\n",
              "7                 France           Europe  ...    5.8278                  7\n",
              "8                Germany           Europe  ...    8.5445                  6\n",
              "9                 Greece           Europe  ...   -3.8741                  4\n",
              "10              Malaysia             Asia  ...   13.1637                  4\n",
              "11             Mauritius           Africa  ...   10.1212                  6\n",
              "12               Myanmar             Asia  ...   75.7078                  9\n",
              "13                 Qatar             Asia  ...   15.5224                  8\n",
              "14               Romania           Europe  ...   16.1396                  5\n",
              "15               Somalia           Africa  ...  104.4926                  6\n",
              "16          South Africa           Africa  ...    7.2108                  6\n",
              "17  United Arab Emirates             Asia  ...   15.2675                  7\n",
              "18        United Kingdom           Europe  ...    7.7725                  6\n",
              "19         United States    North America  ...    5.8645                  5\n",
              "\n",
              "[20 rows x 7 columns]"
            ]
          },
          "metadata": {
            "tags": []
          },
          "execution_count": 12
        }
      ]
    },
    {
      "cell_type": "code",
      "metadata": {
        "colab": {
          "base_uri": "https://localhost:8080/"
        },
        "id": "Hk6Yb5mGNbUk",
        "outputId": "cd81dd2f-60a4-4b46-c97b-929ca735f9be"
      },
      "source": [
        "y"
      ],
      "execution_count": null,
      "outputs": [
        {
          "output_type": "execute_result",
          "data": {
            "text/plain": [
              "0     6\n",
              "1     6\n",
              "2     7\n",
              "3     3\n",
              "4     7\n",
              "5     6\n",
              "6     6\n",
              "7     7\n",
              "8     6\n",
              "9     4\n",
              "10    4\n",
              "11    6\n",
              "12    9\n",
              "13    8\n",
              "14    5\n",
              "15    6\n",
              "16    6\n",
              "17    7\n",
              "18    6\n",
              "19    5\n",
              "Name: YrsPositiveGrowth, dtype: int64"
            ]
          },
          "metadata": {
            "tags": []
          },
          "execution_count": 6
        }
      ]
    },
    {
      "cell_type": "code",
      "metadata": {
        "colab": {
          "base_uri": "https://localhost:8080/",
          "height": 265
        },
        "id": "Zfc7YyjcNcXE",
        "outputId": "9b4d4004-372e-42a2-d4a9-c2918d50df8d"
      },
      "source": [
        "\r\n",
        "# synthetic classification dataset\r\n",
        "from numpy import where\r\n",
        "from sklearn.datasets import make_classification\r\n",
        "from matplotlib import pyplot\r\n",
        "# define dataset\r\n",
        "f, g = make_classification(n_samples=1000, n_features=2, n_informative=2, n_redundant=0, n_clusters_per_class=1, random_state=4)\r\n",
        "# create scatter plot for samples from each class\r\n",
        "for class_value in range(2):\r\n",
        "\t# get row indexes for samples with this class\r\n",
        "\trow_ix = where(g == class_value)\r\n",
        "\t# create scatter of these samples\r\n",
        "\tpyplot.scatter(f[row_ix, 0], f[row_ix, 1])\r\n",
        "# show the plot\r\n",
        "pyplot.show()"
      ],
      "execution_count": null,
      "outputs": [
        {
          "output_type": "display_data",
          "data": {
            "image/png": "[encoded data removed]",
            "text/plain": [
              "<Figure size 432x288 with 1 Axes>"
            ]
          },
          "metadata": {
            "tags": [],
            "needs_background": "light"
          }
        }
      ]
    },
    {
      "cell_type": "code",
      "metadata": {
        "id": "-m58tQQxp9aU",
        "colab": {
          "base_uri": "https://localhost:8080/",
          "height": 265
        },
        "outputId": "63a4ad2d-41c0-409e-8db5-4b5c0de3ac60"
      },
      "source": [
        "# synthetic classification dataset\r\n",
        "from numpy import where\r\n",
        "from sklearn.datasets import make_classification\r\n",
        "from matplotlib import pyplot\r\n",
        "# define dataset\r\n",
        "x, y = make_classification(n_samples=1000, n_features=2, n_informative=2, n_redundant=0, n_clusters_per_class=1, random_state=4)\r\n",
        "# create scatter plot for samples from each class\r\n",
        "for class_value in range(2):\r\n",
        "\t# get row indexes for samples with this class\r\n",
        "\trow_ix = where(y == class_value)\r\n",
        "\t# create scatter of these samples\r\n",
        "\tpyplot.scatter(x[row_ix, 0], x[row_ix, 1])\r\n",
        "# show the plot\r\n",
        "pyplot.show()"
      ],
      "execution_count": null,
      "outputs": [
        {
          "output_type": "display_data",
          "data": {
            "image/png": "[encoded data removed]",
            "text/plain": [
              "<Figure size 432x288 with 1 Axes>"
            ]
          },
          "metadata": {
            "tags": [],
            "needs_background": "light"
          }
        }
      ]
    },
    {
      "cell_type": "code",
      "metadata": {
        "colab": {
          "base_uri": "https://localhost:8080/",
          "height": 265
        },
        "id": "VNXeAA1VWAdb",
        "outputId": "183fe7e6-84d9-4f99-c02c-205a80ab03fd"
      },
      "source": [
        "# affinity propagation clustering\r\n",
        "from numpy import unique\r\n",
        "from numpy import where\r\n",
        "from sklearn.datasets import make_classification\r\n",
        "from sklearn.cluster import AffinityPropagation\r\n",
        "from matplotlib import pyplot\r\n",
        "# define dataset\r\n",
        "X, _ = make_classification(n_samples=1000, n_features=2, n_informative=2, n_redundant=0, n_clusters_per_class=1, random_state=4)\r\n",
        "# define the model\r\n",
        "model = AffinityPropagation(damping=0.9)\r\n",
        "# fit the model\r\n",
        "model.fit(X)\r\n",
        "# assign a cluster to each example\r\n",
        "yhat = model.predict(X)\r\n",
        "# retrieve unique clusters\r\n",
        "clusters = unique(yhat)\r\n",
        "# create scatter plot for samples from each cluster\r\n",
        "for cluster in clusters:\r\n",
        "\t# get row indexes for samples with this cluster\r\n",
        "\trow_ix = where(yhat == cluster)\r\n",
        "\t# create scatter of these samples\r\n",
        "\tpyplot.scatter(X[row_ix, 0], X[row_ix, 1])\r\n",
        "# show the plot\r\n",
        "pyplot.show()"
      ],
      "execution_count": null,
      "outputs": [
        {
          "output_type": "display_data",
          "data": {
            "image/png": "[encoded data removed]",
            "text/plain": [
              "<Figure size 432x288 with 1 Axes>"
            ]
          },
          "metadata": {
            "tags": [],
            "needs_background": "light"
          }
        }
      ]
    },
    {
      "cell_type": "code",
      "metadata": {
        "colab": {
          "base_uri": "https://localhost:8080/",
          "height": 265
        },
        "id": "VxqaZtPhWL9Z",
        "outputId": "0c77f00a-b948-4e13-e51b-b19355cccc85"
      },
      "source": [
        "\r\n",
        "# agglomerative clustering\r\n",
        "from numpy import unique\r\n",
        "from numpy import where\r\n",
        "from sklearn.datasets import make_classification\r\n",
        "from sklearn.cluster import AgglomerativeClustering\r\n",
        "from matplotlib import pyplot\r\n",
        "# define dataset\r\n",
        "X, _ = make_classification(n_samples=1000, n_features=2, n_informative=2, n_redundant=0, n_clusters_per_class=1, random_state=4)\r\n",
        "# define the model\r\n",
        "model = AgglomerativeClustering(n_clusters=2)\r\n",
        "# fit model and predict clusters\r\n",
        "yhat = model.fit_predict(X)\r\n",
        "# retrieve unique clusters\r\n",
        "clusters = unique(yhat)\r\n",
        "# create scatter plot for samples from each cluster\r\n",
        "for cluster in clusters:\r\n",
        "\t# get row indexes for samples with this cluster\r\n",
        "\trow_ix = where(yhat == cluster)\r\n",
        "\t# create scatter of these samples\r\n",
        "\tpyplot.scatter(X[row_ix, 0], X[row_ix, 1])\r\n",
        "# show the plot\r\n",
        "pyplot.show()"
      ],
      "execution_count": null,
      "outputs": [
        {
          "output_type": "display_data",
          "data": {
            "image/png": "[encoded data removed]",
            "text/plain": [
              "<Figure size 432x288 with 1 Axes>"
            ]
          },
          "metadata": {
            "tags": [],
            "needs_background": "light"
          }
        }
      ]
    },
    {
      "cell_type": "code",
      "metadata": {
        "colab": {
          "base_uri": "https://localhost:8080/",
          "height": 265
        },
        "id": "njNPtYjLWUUB",
        "outputId": "4df10770-561b-4c52-f426-221bc3869faf"
      },
      "source": [
        "\r\n",
        "# dbscan clustering\r\n",
        "from numpy import unique\r\n",
        "from numpy import where\r\n",
        "from sklearn.datasets import make_classification\r\n",
        "from sklearn.cluster import DBSCAN\r\n",
        "from matplotlib import pyplot\r\n",
        "# define dataset\r\n",
        "X, _ = make_classification(n_samples=1000, n_features=2, n_informative=2, n_redundant=0, n_clusters_per_class=1, random_state=4)\r\n",
        "# define the model\r\n",
        "model = DBSCAN(eps=0.30, min_samples=9)\r\n",
        "# fit model and predict clusters\r\n",
        "yhat = model.fit_predict(X)\r\n",
        "# retrieve unique clusters\r\n",
        "clusters = unique(yhat)\r\n",
        "# create scatter plot for samples from each cluster\r\n",
        "for cluster in clusters:\r\n",
        "\t# get row indexes for samples with this cluster\r\n",
        "\trow_ix = where(yhat == cluster)\r\n",
        "\t# create scatter of these samples\r\n",
        "\tpyplot.scatter(X[row_ix, 0], X[row_ix, 1])\r\n",
        "# show the plot\r\n",
        "pyplot.show()"
      ],
      "execution_count": null,
      "outputs": [
        {
          "output_type": "display_data",
          "data": {
            "image/png": "[encoded data removed]",
            "text/plain": [
              "<Figure size 432x288 with 1 Axes>"
            ]
          },
          "metadata": {
            "tags": [],
            "needs_background": "light"
          }
        }
      ]
    },
    {
      "cell_type": "code",
      "metadata": {
        "id": "4VB3LN5fWgnK",
        "colab": {
          "base_uri": "https://localhost:8080/",
          "height": 163
        },
        "outputId": "f3855897-7083-4b01-bf1b-f2a971872fef"
      },
      "source": [
        "df"
      ],
      "execution_count": null,
      "outputs": [
        {
          "output_type": "error",
          "ename": "NameError",
          "evalue": "ignored",
          "traceback": [
            "\u001b[0;31m---------------------------------------------------------------------------\u001b[0m",
            "\u001b[0;31mNameError\u001b[0m                                 Traceback (most recent call last)",
            "\u001b[0;32m<ipython-input-1-00cf07b74dcd>\u001b[0m in \u001b[0;36m<module>\u001b[0;34m()\u001b[0m\n\u001b[0;32m----> 1\u001b[0;31m \u001b[0mdf\u001b[0m\u001b[0;34m\u001b[0m\u001b[0;34m\u001b[0m\u001b[0m\n\u001b[0m",
            "\u001b[0;31mNameError\u001b[0m: name 'df' is not defined"
          ]
        }
      ]
    },
    {
      "cell_type": "code",
      "metadata": {
        "colab": {
          "resources": {
            "http://localhost:8080/nbextensions/google.colab/files.js": {
              "data": "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",
              "ok": true,
              "headers": [
                [
                  "content-type",
                  "application/javascript"
                ]
              ],
              "status": 200,
              "status_text": ""
            }
          },
          "base_uri": "https://localhost:8080/",
          "height": 72
        },
        "id": "FnJyxJSwWtBZ",
        "outputId": "517369cf-7a4e-4ed2-c845-52107b5485fd"
      },
      "source": [
        "from google.colab import files\r\n",
        "upload=files.upload()\r\n"
      ],
      "execution_count": null,
      "outputs": [
        {
          "output_type": "display_data",
          "data": {
            "text/html": [
              "\n",
              "     <input type=\"file\" id=\"files-d25663d6-1e73-4d23-9d4d-4e829a6a050a\" name=\"files[]\" multiple disabled\n",
              "        style=\"border:none\" />\n",
              "     <output id=\"result-d25663d6-1e73-4d23-9d4d-4e829a6a050a\">\n",
              "      Upload widget is only available when the cell has been executed in the\n",
              "      current browser session. Please rerun this cell to enable.\n",
              "      </output>\n",
              "      <script src=\"/nbextensions/google.colab/files.js\"></script> "
            ],
            "text/plain": [
              "<IPython.core.display.HTML object>"
            ]
          },
          "metadata": {
            "tags": []
          }
        },
        {
          "output_type": "stream",
          "text": [
            "Saving Textiles.csv to Textiles.csv\n"
          ],
          "name": "stdout"
        }
      ]
    },
    {
      "cell_type": "code",
      "metadata": {
        "id": "x1ndnkNxW7WH"
      },
      "source": [
        "import pandas as pd"
      ],
      "execution_count": null,
      "outputs": []
    },
    {
      "cell_type": "code",
      "metadata": {
        "id": "Et3N0lhEXBSX"
      },
      "source": [
        "df=pd.read_csv(\"Textiles.csv\")"
      ],
      "execution_count": null,
      "outputs": []
    },
    {
      "cell_type": "code",
      "metadata": {
        "colab": {
          "base_uri": "https://localhost:8080/",
          "height": 669
        },
        "id": "XxoSUZilXK4P",
        "outputId": "0517a3b0-5318-4ee8-8a7c-12371aa62bad"
      },
      "source": [
        "df"
      ],
      "execution_count": null,
      "outputs": [
        {
          "output_type": "execute_result",
          "data": {
            "text/html": [
              "<div>\n",
              "<style scoped>\n",
              "    .dataframe tbody tr th:only-of-type {\n",
              "        vertical-align: middle;\n",
              "    }\n",
              "\n",
              "    .dataframe tbody tr th {\n",
              "        vertical-align: top;\n",
              "    }\n",
              "\n",
              "    .dataframe thead th {\n",
              "        text-align: right;\n",
              "    }\n",
              "</style>\n",
              "<table border=\"1\" class=\"dataframe\">\n",
              "  <thead>\n",
              "    <tr style=\"text-align: right;\">\n",
              "      <th></th>\n",
              "      <th>PartnerCountry</th>\n",
              "      <th>PartnerContinent</th>\n",
              "      <th>DevelopmentStatus</th>\n",
              "      <th>AvgExports</th>\n",
              "      <th>MaxExports</th>\n",
              "      <th>AvgGrowth</th>\n",
              "      <th>YrsPositiveGrowth</th>\n",
              "    </tr>\n",
              "  </thead>\n",
              "  <tbody>\n",
              "    <tr>\n",
              "      <th>0</th>\n",
              "      <td>Argentina</td>\n",
              "      <td>South America</td>\n",
              "      <td>Emerging</td>\n",
              "      <td>70630.67</td>\n",
              "      <td>109285.39</td>\n",
              "      <td>19.1779</td>\n",
              "      <td>6</td>\n",
              "    </tr>\n",
              "    <tr>\n",
              "      <th>1</th>\n",
              "      <td>Belgium</td>\n",
              "      <td>Europe</td>\n",
              "      <td>Developed</td>\n",
              "      <td>464622.74</td>\n",
              "      <td>640258.03</td>\n",
              "      <td>9.2133</td>\n",
              "      <td>6</td>\n",
              "    </tr>\n",
              "    <tr>\n",
              "      <th>2</th>\n",
              "      <td>Brazil</td>\n",
              "      <td>South America</td>\n",
              "      <td>Emerging</td>\n",
              "      <td>386897.78</td>\n",
              "      <td>641830.10</td>\n",
              "      <td>28.2631</td>\n",
              "      <td>7</td>\n",
              "    </tr>\n",
              "    <tr>\n",
              "      <th>3</th>\n",
              "      <td>Canada</td>\n",
              "      <td>North America</td>\n",
              "      <td>Developed</td>\n",
              "      <td>414307.57</td>\n",
              "      <td>503770.05</td>\n",
              "      <td>2.4985</td>\n",
              "      <td>3</td>\n",
              "    </tr>\n",
              "    <tr>\n",
              "      <th>4</th>\n",
              "      <td>Chile</td>\n",
              "      <td>South America</td>\n",
              "      <td>Emerging</td>\n",
              "      <td>94519.72</td>\n",
              "      <td>175498.61</td>\n",
              "      <td>20.4567</td>\n",
              "      <td>7</td>\n",
              "    </tr>\n",
              "    <tr>\n",
              "      <th>5</th>\n",
              "      <td>Costa Rica</td>\n",
              "      <td>South America</td>\n",
              "      <td>Emerging</td>\n",
              "      <td>5473.94</td>\n",
              "      <td>11276.39</td>\n",
              "      <td>25.3167</td>\n",
              "      <td>6</td>\n",
              "    </tr>\n",
              "    <tr>\n",
              "      <th>6</th>\n",
              "      <td>Egypt</td>\n",
              "      <td>Africa</td>\n",
              "      <td>Emerging</td>\n",
              "      <td>330738.32</td>\n",
              "      <td>500590.09</td>\n",
              "      <td>15.2469</td>\n",
              "      <td>6</td>\n",
              "    </tr>\n",
              "    <tr>\n",
              "      <th>7</th>\n",
              "      <td>France</td>\n",
              "      <td>Europe</td>\n",
              "      <td>Developed</td>\n",
              "      <td>973831.10</td>\n",
              "      <td>1225212.87</td>\n",
              "      <td>5.8278</td>\n",
              "      <td>7</td>\n",
              "    </tr>\n",
              "    <tr>\n",
              "      <th>8</th>\n",
              "      <td>Germany</td>\n",
              "      <td>Europe</td>\n",
              "      <td>Developed</td>\n",
              "      <td>1656647.42</td>\n",
              "      <td>2214344.41</td>\n",
              "      <td>8.5445</td>\n",
              "      <td>6</td>\n",
              "    </tr>\n",
              "    <tr>\n",
              "      <th>9</th>\n",
              "      <td>Greece</td>\n",
              "      <td>Europe</td>\n",
              "      <td>Developed</td>\n",
              "      <td>63881.00</td>\n",
              "      <td>90058.30</td>\n",
              "      <td>-3.8741</td>\n",
              "      <td>4</td>\n",
              "    </tr>\n",
              "    <tr>\n",
              "      <th>10</th>\n",
              "      <td>Malaysia</td>\n",
              "      <td>Asia</td>\n",
              "      <td>Developed</td>\n",
              "      <td>212026.12</td>\n",
              "      <td>324798.15</td>\n",
              "      <td>13.1637</td>\n",
              "      <td>4</td>\n",
              "    </tr>\n",
              "    <tr>\n",
              "      <th>11</th>\n",
              "      <td>Mauritius</td>\n",
              "      <td>Africa</td>\n",
              "      <td>Emerging</td>\n",
              "      <td>98699.25</td>\n",
              "      <td>138281.28</td>\n",
              "      <td>10.1212</td>\n",
              "      <td>6</td>\n",
              "    </tr>\n",
              "    <tr>\n",
              "      <th>12</th>\n",
              "      <td>Myanmar</td>\n",
              "      <td>Asia</td>\n",
              "      <td>underDeveloped</td>\n",
              "      <td>22656.62</td>\n",
              "      <td>86203.42</td>\n",
              "      <td>75.7078</td>\n",
              "      <td>9</td>\n",
              "    </tr>\n",
              "    <tr>\n",
              "      <th>13</th>\n",
              "      <td>Qatar</td>\n",
              "      <td>Asia</td>\n",
              "      <td>Emerging</td>\n",
              "      <td>23513.59</td>\n",
              "      <td>41186.35</td>\n",
              "      <td>15.5224</td>\n",
              "      <td>8</td>\n",
              "    </tr>\n",
              "    <tr>\n",
              "      <th>14</th>\n",
              "      <td>Romania</td>\n",
              "      <td>Europe</td>\n",
              "      <td>Emerging</td>\n",
              "      <td>24737.27</td>\n",
              "      <td>34353.13</td>\n",
              "      <td>16.1396</td>\n",
              "      <td>5</td>\n",
              "    </tr>\n",
              "    <tr>\n",
              "      <th>15</th>\n",
              "      <td>Somalia</td>\n",
              "      <td>Africa</td>\n",
              "      <td>underDeveloped</td>\n",
              "      <td>978.64</td>\n",
              "      <td>5227.12</td>\n",
              "      <td>104.4926</td>\n",
              "      <td>6</td>\n",
              "    </tr>\n",
              "    <tr>\n",
              "      <th>16</th>\n",
              "      <td>South Africa</td>\n",
              "      <td>Africa</td>\n",
              "      <td>Developed</td>\n",
              "      <td>196280.68</td>\n",
              "      <td>271429.22</td>\n",
              "      <td>7.2108</td>\n",
              "      <td>6</td>\n",
              "    </tr>\n",
              "    <tr>\n",
              "      <th>17</th>\n",
              "      <td>United Arab Emirates</td>\n",
              "      <td>Asia</td>\n",
              "      <td>Emerging</td>\n",
              "      <td>1917422.97</td>\n",
              "      <td>3488284.78</td>\n",
              "      <td>15.2675</td>\n",
              "      <td>7</td>\n",
              "    </tr>\n",
              "    <tr>\n",
              "      <th>18</th>\n",
              "      <td>United Kingdom</td>\n",
              "      <td>Europe</td>\n",
              "      <td>Developed</td>\n",
              "      <td>1872689.51</td>\n",
              "      <td>2549827.40</td>\n",
              "      <td>7.7725</td>\n",
              "      <td>6</td>\n",
              "    </tr>\n",
              "    <tr>\n",
              "      <th>19</th>\n",
              "      <td>United States</td>\n",
              "      <td>North America</td>\n",
              "      <td>Developed</td>\n",
              "      <td>5458587.53</td>\n",
              "      <td>7379737.39</td>\n",
              "      <td>5.8645</td>\n",
              "      <td>5</td>\n",
              "    </tr>\n",
              "  </tbody>\n",
              "</table>\n",
              "</div>"
            ],
            "text/plain": [
              "          PartnerCountry PartnerContinent  ... AvgGrowth  YrsPositiveGrowth\n",
              "0              Argentina    South America  ...   19.1779                  6\n",
              "1                Belgium           Europe  ...    9.2133                  6\n",
              "2                 Brazil    South America  ...   28.2631                  7\n",
              "3                 Canada    North America  ...    2.4985                  3\n",
              "4                  Chile    South America  ...   20.4567                  7\n",
              "5             Costa Rica    South America  ...   25.3167                  6\n",
              "6                  Egypt           Africa  ...   15.2469                  6\n",
              "7                 France           Europe  ...    5.8278                  7\n",
              "8                Germany           Europe  ...    8.5445                  6\n",
              "9                 Greece           Europe  ...   -3.8741                  4\n",
              "10              Malaysia             Asia  ...   13.1637                  4\n",
              "11             Mauritius           Africa  ...   10.1212                  6\n",
              "12               Myanmar             Asia  ...   75.7078                  9\n",
              "13                 Qatar             Asia  ...   15.5224                  8\n",
              "14               Romania           Europe  ...   16.1396                  5\n",
              "15               Somalia           Africa  ...  104.4926                  6\n",
              "16          South Africa           Africa  ...    7.2108                  6\n",
              "17  United Arab Emirates             Asia  ...   15.2675                  7\n",
              "18        United Kingdom           Europe  ...    7.7725                  6\n",
              "19         United States    North America  ...    5.8645                  5\n",
              "\n",
              "[20 rows x 7 columns]"
            ]
          },
          "metadata": {
            "tags": []
          },
          "execution_count": 5
        }
      ]
    },
    {
      "cell_type": "code",
      "metadata": {
        "id": "MoV2KW55XywR"
      },
      "source": [
        "import numpy as np"
      ],
      "execution_count": null,
      "outputs": []
    },
    {
      "cell_type": "code",
      "metadata": {
        "colab": {
          "base_uri": "https://localhost:8080/",
          "height": 266
        },
        "id": "g54P-ViMXLlP",
        "outputId": "a62094e7-0de2-4262-a36a-c914763d304a"
      },
      "source": [
        "df.drop([7,8,9,10,11,12,13,14,15,16,17,18,19])"
      ],
      "execution_count": null,
      "outputs": [
        {
          "output_type": "execute_result",
          "data": {
            "text/html": [
              "<div>\n",
              "<style scoped>\n",
              "    .dataframe tbody tr th:only-of-type {\n",
              "        vertical-align: middle;\n",
              "    }\n",
              "\n",
              "    .dataframe tbody tr th {\n",
              "        vertical-align: top;\n",
              "    }\n",
              "\n",
              "    .dataframe thead th {\n",
              "        text-align: right;\n",
              "    }\n",
              "</style>\n",
              "<table border=\"1\" class=\"dataframe\">\n",
              "  <thead>\n",
              "    <tr style=\"text-align: right;\">\n",
              "      <th></th>\n",
              "      <th>PartnerCountry</th>\n",
              "      <th>PartnerContinent</th>\n",
              "      <th>DevelopmentStatus</th>\n",
              "      <th>AvgExports</th>\n",
              "      <th>MaxExports</th>\n",
              "      <th>AvgGrowth</th>\n",
              "      <th>YrsPositiveGrowth</th>\n",
              "    </tr>\n",
              "  </thead>\n",
              "  <tbody>\n",
              "    <tr>\n",
              "      <th>0</th>\n",
              "      <td>Argentina</td>\n",
              "      <td>South America</td>\n",
              "      <td>Emerging</td>\n",
              "      <td>70630.67</td>\n",
              "      <td>109285.39</td>\n",
              "      <td>19.1779</td>\n",
              "      <td>6</td>\n",
              "    </tr>\n",
              "    <tr>\n",
              "      <th>1</th>\n",
              "      <td>Belgium</td>\n",
              "      <td>Europe</td>\n",
              "      <td>Developed</td>\n",
              "      <td>464622.74</td>\n",
              "      <td>640258.03</td>\n",
              "      <td>9.2133</td>\n",
              "      <td>6</td>\n",
              "    </tr>\n",
              "    <tr>\n",
              "      <th>2</th>\n",
              "      <td>Brazil</td>\n",
              "      <td>South America</td>\n",
              "      <td>Emerging</td>\n",
              "      <td>386897.78</td>\n",
              "      <td>641830.10</td>\n",
              "      <td>28.2631</td>\n",
              "      <td>7</td>\n",
              "    </tr>\n",
              "    <tr>\n",
              "      <th>3</th>\n",
              "      <td>Canada</td>\n",
              "      <td>North America</td>\n",
              "      <td>Developed</td>\n",
              "      <td>414307.57</td>\n",
              "      <td>503770.05</td>\n",
              "      <td>2.4985</td>\n",
              "      <td>3</td>\n",
              "    </tr>\n",
              "    <tr>\n",
              "      <th>4</th>\n",
              "      <td>Chile</td>\n",
              "      <td>South America</td>\n",
              "      <td>Emerging</td>\n",
              "      <td>94519.72</td>\n",
              "      <td>175498.61</td>\n",
              "      <td>20.4567</td>\n",
              "      <td>7</td>\n",
              "    </tr>\n",
              "    <tr>\n",
              "      <th>5</th>\n",
              "      <td>Costa Rica</td>\n",
              "      <td>South America</td>\n",
              "      <td>Emerging</td>\n",
              "      <td>5473.94</td>\n",
              "      <td>11276.39</td>\n",
              "      <td>25.3167</td>\n",
              "      <td>6</td>\n",
              "    </tr>\n",
              "    <tr>\n",
              "      <th>6</th>\n",
              "      <td>Egypt</td>\n",
              "      <td>Africa</td>\n",
              "      <td>Emerging</td>\n",
              "      <td>330738.32</td>\n",
              "      <td>500590.09</td>\n",
              "      <td>15.2469</td>\n",
              "      <td>6</td>\n",
              "    </tr>\n",
              "  </tbody>\n",
              "</table>\n",
              "</div>"
            ],
            "text/plain": [
              "  PartnerCountry PartnerContinent  ... AvgGrowth  YrsPositiveGrowth\n",
              "0      Argentina    South America  ...   19.1779                  6\n",
              "1        Belgium           Europe  ...    9.2133                  6\n",
              "2         Brazil    South America  ...   28.2631                  7\n",
              "3         Canada    North America  ...    2.4985                  3\n",
              "4          Chile    South America  ...   20.4567                  7\n",
              "5     Costa Rica    South America  ...   25.3167                  6\n",
              "6          Egypt           Africa  ...   15.2469                  6\n",
              "\n",
              "[7 rows x 7 columns]"
            ]
          },
          "metadata": {
            "tags": []
          },
          "execution_count": 13
        }
      ]
    },
    {
      "cell_type": "code",
      "metadata": {
        "colab": {
          "base_uri": "https://localhost:8080/",
          "height": 266
        },
        "id": "fXn49lKhY3ke",
        "outputId": "2b4198ab-d3a8-4e08-9c72-e240ede4978a"
      },
      "source": [
        "df.drop([7,8,9,10,11,12,13,14,15,16,17,18,19])"
      ],
      "execution_count": null,
      "outputs": [
        {
          "output_type": "execute_result",
          "data": {
            "text/html": [
              "<div>\n",
              "<style scoped>\n",
              "    .dataframe tbody tr th:only-of-type {\n",
              "        vertical-align: middle;\n",
              "    }\n",
              "\n",
              "    .dataframe tbody tr th {\n",
              "        vertical-align: top;\n",
              "    }\n",
              "\n",
              "    .dataframe thead th {\n",
              "        text-align: right;\n",
              "    }\n",
              "</style>\n",
              "<table border=\"1\" class=\"dataframe\">\n",
              "  <thead>\n",
              "    <tr style=\"text-align: right;\">\n",
              "      <th></th>\n",
              "      <th>PartnerCountry</th>\n",
              "      <th>PartnerContinent</th>\n",
              "      <th>DevelopmentStatus</th>\n",
              "      <th>AvgExports</th>\n",
              "      <th>MaxExports</th>\n",
              "      <th>AvgGrowth</th>\n",
              "      <th>YrsPositiveGrowth</th>\n",
              "    </tr>\n",
              "  </thead>\n",
              "  <tbody>\n",
              "    <tr>\n",
              "      <th>0</th>\n",
              "      <td>Argentina</td>\n",
              "      <td>South America</td>\n",
              "      <td>Emerging</td>\n",
              "      <td>70630.67</td>\n",
              "      <td>109285.39</td>\n",
              "      <td>19.1779</td>\n",
              "      <td>6</td>\n",
              "    </tr>\n",
              "    <tr>\n",
              "      <th>1</th>\n",
              "      <td>Belgium</td>\n",
              "      <td>Europe</td>\n",
              "      <td>Developed</td>\n",
              "      <td>464622.74</td>\n",
              "      <td>640258.03</td>\n",
              "      <td>9.2133</td>\n",
              "      <td>6</td>\n",
              "    </tr>\n",
              "    <tr>\n",
              "      <th>2</th>\n",
              "      <td>Brazil</td>\n",
              "      <td>South America</td>\n",
              "      <td>Emerging</td>\n",
              "      <td>386897.78</td>\n",
              "      <td>641830.10</td>\n",
              "      <td>28.2631</td>\n",
              "      <td>7</td>\n",
              "    </tr>\n",
              "    <tr>\n",
              "      <th>3</th>\n",
              "      <td>Canada</td>\n",
              "      <td>North America</td>\n",
              "      <td>Developed</td>\n",
              "      <td>414307.57</td>\n",
              "      <td>503770.05</td>\n",
              "      <td>2.4985</td>\n",
              "      <td>3</td>\n",
              "    </tr>\n",
              "    <tr>\n",
              "      <th>4</th>\n",
              "      <td>Chile</td>\n",
              "      <td>South America</td>\n",
              "      <td>Emerging</td>\n",
              "      <td>94519.72</td>\n",
              "      <td>175498.61</td>\n",
              "      <td>20.4567</td>\n",
              "      <td>7</td>\n",
              "    </tr>\n",
              "    <tr>\n",
              "      <th>5</th>\n",
              "      <td>Costa Rica</td>\n",
              "      <td>South America</td>\n",
              "      <td>Emerging</td>\n",
              "      <td>5473.94</td>\n",
              "      <td>11276.39</td>\n",
              "      <td>25.3167</td>\n",
              "      <td>6</td>\n",
              "    </tr>\n",
              "    <tr>\n",
              "      <th>6</th>\n",
              "      <td>Egypt</td>\n",
              "      <td>Africa</td>\n",
              "      <td>Emerging</td>\n",
              "      <td>330738.32</td>\n",
              "      <td>500590.09</td>\n",
              "      <td>15.2469</td>\n",
              "      <td>6</td>\n",
              "    </tr>\n",
              "  </tbody>\n",
              "</table>\n",
              "</div>"
            ],
            "text/plain": [
              "  PartnerCountry PartnerContinent  ... AvgGrowth  YrsPositiveGrowth\n",
              "0      Argentina    South America  ...   19.1779                  6\n",
              "1        Belgium           Europe  ...    9.2133                  6\n",
              "2         Brazil    South America  ...   28.2631                  7\n",
              "3         Canada    North America  ...    2.4985                  3\n",
              "4          Chile    South America  ...   20.4567                  7\n",
              "5     Costa Rica    South America  ...   25.3167                  6\n",
              "6          Egypt           Africa  ...   15.2469                  6\n",
              "\n",
              "[7 rows x 7 columns]"
            ]
          },
          "metadata": {
            "tags": []
          },
          "execution_count": 22
        }
      ]
    },
    {
      "cell_type": "code",
      "metadata": {
        "colab": {
          "base_uri": "https://localhost:8080/",
          "height": 266
        },
        "id": "rOfzWjgpj0va",
        "outputId": "2a7af8e7-2736-4faf-9774-0cb016260ba8"
      },
      "source": [
        "w=df.iloc[:7,:]\r\n",
        "w"
      ],
      "execution_count": null,
      "outputs": [
        {
          "output_type": "execute_result",
          "data": {
            "text/html": [
              "<div>\n",
              "<style scoped>\n",
              "    .dataframe tbody tr th:only-of-type {\n",
              "        vertical-align: middle;\n",
              "    }\n",
              "\n",
              "    .dataframe tbody tr th {\n",
              "        vertical-align: top;\n",
              "    }\n",
              "\n",
              "    .dataframe thead th {\n",
              "        text-align: right;\n",
              "    }\n",
              "</style>\n",
              "<table border=\"1\" class=\"dataframe\">\n",
              "  <thead>\n",
              "    <tr style=\"text-align: right;\">\n",
              "      <th></th>\n",
              "      <th>PartnerCountry</th>\n",
              "      <th>PartnerContinent</th>\n",
              "      <th>DevelopmentStatus</th>\n",
              "      <th>AvgExports</th>\n",
              "      <th>MaxExports</th>\n",
              "      <th>AvgGrowth</th>\n",
              "      <th>YrsPositiveGrowth</th>\n",
              "    </tr>\n",
              "  </thead>\n",
              "  <tbody>\n",
              "    <tr>\n",
              "      <th>0</th>\n",
              "      <td>Argentina</td>\n",
              "      <td>South America</td>\n",
              "      <td>Emerging</td>\n",
              "      <td>70630.67</td>\n",
              "      <td>109285.39</td>\n",
              "      <td>19.1779</td>\n",
              "      <td>6</td>\n",
              "    </tr>\n",
              "    <tr>\n",
              "      <th>1</th>\n",
              "      <td>Belgium</td>\n",
              "      <td>Europe</td>\n",
              "      <td>Developed</td>\n",
              "      <td>464622.74</td>\n",
              "      <td>640258.03</td>\n",
              "      <td>9.2133</td>\n",
              "      <td>6</td>\n",
              "    </tr>\n",
              "    <tr>\n",
              "      <th>2</th>\n",
              "      <td>Brazil</td>\n",
              "      <td>South America</td>\n",
              "      <td>Emerging</td>\n",
              "      <td>386897.78</td>\n",
              "      <td>641830.10</td>\n",
              "      <td>28.2631</td>\n",
              "      <td>7</td>\n",
              "    </tr>\n",
              "    <tr>\n",
              "      <th>3</th>\n",
              "      <td>Canada</td>\n",
              "      <td>North America</td>\n",
              "      <td>Developed</td>\n",
              "      <td>414307.57</td>\n",
              "      <td>503770.05</td>\n",
              "      <td>2.4985</td>\n",
              "      <td>3</td>\n",
              "    </tr>\n",
              "    <tr>\n",
              "      <th>4</th>\n",
              "      <td>Chile</td>\n",
              "      <td>South America</td>\n",
              "      <td>Emerging</td>\n",
              "      <td>94519.72</td>\n",
              "      <td>175498.61</td>\n",
              "      <td>20.4567</td>\n",
              "      <td>7</td>\n",
              "    </tr>\n",
              "    <tr>\n",
              "      <th>5</th>\n",
              "      <td>Costa Rica</td>\n",
              "      <td>South America</td>\n",
              "      <td>Emerging</td>\n",
              "      <td>5473.94</td>\n",
              "      <td>11276.39</td>\n",
              "      <td>25.3167</td>\n",
              "      <td>6</td>\n",
              "    </tr>\n",
              "    <tr>\n",
              "      <th>6</th>\n",
              "      <td>Egypt</td>\n",
              "      <td>Africa</td>\n",
              "      <td>Emerging</td>\n",
              "      <td>330738.32</td>\n",
              "      <td>500590.09</td>\n",
              "      <td>15.2469</td>\n",
              "      <td>6</td>\n",
              "    </tr>\n",
              "  </tbody>\n",
              "</table>\n",
              "</div>"
            ],
            "text/plain": [
              "  PartnerCountry PartnerContinent  ... AvgGrowth  YrsPositiveGrowth\n",
              "0      Argentina    South America  ...   19.1779                  6\n",
              "1        Belgium           Europe  ...    9.2133                  6\n",
              "2         Brazil    South America  ...   28.2631                  7\n",
              "3         Canada    North America  ...    2.4985                  3\n",
              "4          Chile    South America  ...   20.4567                  7\n",
              "5     Costa Rica    South America  ...   25.3167                  6\n",
              "6          Egypt           Africa  ...   15.2469                  6\n",
              "\n",
              "[7 rows x 7 columns]"
            ]
          },
          "metadata": {
            "tags": []
          },
          "execution_count": 124
        }
      ]
    },
    {
      "cell_type": "code",
      "metadata": {
        "id": "F_pygj9BY9WO"
      },
      "source": [
        "import matplotlib.pyplot as plt"
      ],
      "execution_count": null,
      "outputs": []
    },
    {
      "cell_type": "code",
      "metadata": {
        "id": "yekgfBwgackP"
      },
      "source": [
        "x=df.iloc[:,3:4]\r\n",
        "y=df.iloc[:,4:5]"
      ],
      "execution_count": null,
      "outputs": []
    },
    {
      "cell_type": "code",
      "metadata": {
        "colab": {
          "base_uri": "https://localhost:8080/",
          "height": 669
        },
        "id": "UORkO2U3a62X",
        "outputId": "c72cecdf-b105-4364-ccf9-ddc63fd56950"
      },
      "source": [
        "x"
      ],
      "execution_count": null,
      "outputs": [
        {
          "output_type": "execute_result",
          "data": {
            "text/html": [
              "<div>\n",
              "<style scoped>\n",
              "    .dataframe tbody tr th:only-of-type {\n",
              "        vertical-align: middle;\n",
              "    }\n",
              "\n",
              "    .dataframe tbody tr th {\n",
              "        vertical-align: top;\n",
              "    }\n",
              "\n",
              "    .dataframe thead th {\n",
              "        text-align: right;\n",
              "    }\n",
              "</style>\n",
              "<table border=\"1\" class=\"dataframe\">\n",
              "  <thead>\n",
              "    <tr style=\"text-align: right;\">\n",
              "      <th></th>\n",
              "      <th>AvgExports</th>\n",
              "    </tr>\n",
              "  </thead>\n",
              "  <tbody>\n",
              "    <tr>\n",
              "      <th>0</th>\n",
              "      <td>70630.67</td>\n",
              "    </tr>\n",
              "    <tr>\n",
              "      <th>1</th>\n",
              "      <td>464622.74</td>\n",
              "    </tr>\n",
              "    <tr>\n",
              "      <th>2</th>\n",
              "      <td>386897.78</td>\n",
              "    </tr>\n",
              "    <tr>\n",
              "      <th>3</th>\n",
              "      <td>414307.57</td>\n",
              "    </tr>\n",
              "    <tr>\n",
              "      <th>4</th>\n",
              "      <td>94519.72</td>\n",
              "    </tr>\n",
              "    <tr>\n",
              "      <th>5</th>\n",
              "      <td>5473.94</td>\n",
              "    </tr>\n",
              "    <tr>\n",
              "      <th>6</th>\n",
              "      <td>330738.32</td>\n",
              "    </tr>\n",
              "    <tr>\n",
              "      <th>7</th>\n",
              "      <td>973831.10</td>\n",
              "    </tr>\n",
              "    <tr>\n",
              "      <th>8</th>\n",
              "      <td>1656647.42</td>\n",
              "    </tr>\n",
              "    <tr>\n",
              "      <th>9</th>\n",
              "      <td>63881.00</td>\n",
              "    </tr>\n",
              "    <tr>\n",
              "      <th>10</th>\n",
              "      <td>212026.12</td>\n",
              "    </tr>\n",
              "    <tr>\n",
              "      <th>11</th>\n",
              "      <td>98699.25</td>\n",
              "    </tr>\n",
              "    <tr>\n",
              "      <th>12</th>\n",
              "      <td>22656.62</td>\n",
              "    </tr>\n",
              "    <tr>\n",
              "      <th>13</th>\n",
              "      <td>23513.59</td>\n",
              "    </tr>\n",
              "    <tr>\n",
              "      <th>14</th>\n",
              "      <td>24737.27</td>\n",
              "    </tr>\n",
              "    <tr>\n",
              "      <th>15</th>\n",
              "      <td>978.64</td>\n",
              "    </tr>\n",
              "    <tr>\n",
              "      <th>16</th>\n",
              "      <td>196280.68</td>\n",
              "    </tr>\n",
              "    <tr>\n",
              "      <th>17</th>\n",
              "      <td>1917422.97</td>\n",
              "    </tr>\n",
              "    <tr>\n",
              "      <th>18</th>\n",
              "      <td>1872689.51</td>\n",
              "    </tr>\n",
              "    <tr>\n",
              "      <th>19</th>\n",
              "      <td>5458587.53</td>\n",
              "    </tr>\n",
              "  </tbody>\n",
              "</table>\n",
              "</div>"
            ],
            "text/plain": [
              "    AvgExports\n",
              "0     70630.67\n",
              "1    464622.74\n",
              "2    386897.78\n",
              "3    414307.57\n",
              "4     94519.72\n",
              "5      5473.94\n",
              "6    330738.32\n",
              "7    973831.10\n",
              "8   1656647.42\n",
              "9     63881.00\n",
              "10   212026.12\n",
              "11    98699.25\n",
              "12    22656.62\n",
              "13    23513.59\n",
              "14    24737.27\n",
              "15      978.64\n",
              "16   196280.68\n",
              "17  1917422.97\n",
              "18  1872689.51\n",
              "19  5458587.53"
            ]
          },
          "metadata": {
            "tags": []
          },
          "execution_count": 131
        }
      ]
    },
    {
      "cell_type": "code",
      "metadata": {
        "colab": {
          "base_uri": "https://localhost:8080/",
          "height": 669
        },
        "id": "knkkjXVTbENn",
        "outputId": "5680fd14-3075-415b-f35b-2873e4f0acf9"
      },
      "source": [
        "y"
      ],
      "execution_count": null,
      "outputs": [
        {
          "output_type": "execute_result",
          "data": {
            "text/html": [
              "<div>\n",
              "<style scoped>\n",
              "    .dataframe tbody tr th:only-of-type {\n",
              "        vertical-align: middle;\n",
              "    }\n",
              "\n",
              "    .dataframe tbody tr th {\n",
              "        vertical-align: top;\n",
              "    }\n",
              "\n",
              "    .dataframe thead th {\n",
              "        text-align: right;\n",
              "    }\n",
              "</style>\n",
              "<table border=\"1\" class=\"dataframe\">\n",
              "  <thead>\n",
              "    <tr style=\"text-align: right;\">\n",
              "      <th></th>\n",
              "      <th>MaxExports</th>\n",
              "    </tr>\n",
              "  </thead>\n",
              "  <tbody>\n",
              "    <tr>\n",
              "      <th>0</th>\n",
              "      <td>109285.39</td>\n",
              "    </tr>\n",
              "    <tr>\n",
              "      <th>1</th>\n",
              "      <td>640258.03</td>\n",
              "    </tr>\n",
              "    <tr>\n",
              "      <th>2</th>\n",
              "      <td>641830.10</td>\n",
              "    </tr>\n",
              "    <tr>\n",
              "      <th>3</th>\n",
              "      <td>503770.05</td>\n",
              "    </tr>\n",
              "    <tr>\n",
              "      <th>4</th>\n",
              "      <td>175498.61</td>\n",
              "    </tr>\n",
              "    <tr>\n",
              "      <th>5</th>\n",
              "      <td>11276.39</td>\n",
              "    </tr>\n",
              "    <tr>\n",
              "      <th>6</th>\n",
              "      <td>500590.09</td>\n",
              "    </tr>\n",
              "    <tr>\n",
              "      <th>7</th>\n",
              "      <td>1225212.87</td>\n",
              "    </tr>\n",
              "    <tr>\n",
              "      <th>8</th>\n",
              "      <td>2214344.41</td>\n",
              "    </tr>\n",
              "    <tr>\n",
              "      <th>9</th>\n",
              "      <td>90058.30</td>\n",
              "    </tr>\n",
              "    <tr>\n",
              "      <th>10</th>\n",
              "      <td>324798.15</td>\n",
              "    </tr>\n",
              "    <tr>\n",
              "      <th>11</th>\n",
              "      <td>138281.28</td>\n",
              "    </tr>\n",
              "    <tr>\n",
              "      <th>12</th>\n",
              "      <td>86203.42</td>\n",
              "    </tr>\n",
              "    <tr>\n",
              "      <th>13</th>\n",
              "      <td>41186.35</td>\n",
              "    </tr>\n",
              "    <tr>\n",
              "      <th>14</th>\n",
              "      <td>34353.13</td>\n",
              "    </tr>\n",
              "    <tr>\n",
              "      <th>15</th>\n",
              "      <td>5227.12</td>\n",
              "    </tr>\n",
              "    <tr>\n",
              "      <th>16</th>\n",
              "      <td>271429.22</td>\n",
              "    </tr>\n",
              "    <tr>\n",
              "      <th>17</th>\n",
              "      <td>3488284.78</td>\n",
              "    </tr>\n",
              "    <tr>\n",
              "      <th>18</th>\n",
              "      <td>2549827.40</td>\n",
              "    </tr>\n",
              "    <tr>\n",
              "      <th>19</th>\n",
              "      <td>7379737.39</td>\n",
              "    </tr>\n",
              "  </tbody>\n",
              "</table>\n",
              "</div>"
            ],
            "text/plain": [
              "    MaxExports\n",
              "0    109285.39\n",
              "1    640258.03\n",
              "2    641830.10\n",
              "3    503770.05\n",
              "4    175498.61\n",
              "5     11276.39\n",
              "6    500590.09\n",
              "7   1225212.87\n",
              "8   2214344.41\n",
              "9     90058.30\n",
              "10   324798.15\n",
              "11   138281.28\n",
              "12    86203.42\n",
              "13    41186.35\n",
              "14    34353.13\n",
              "15     5227.12\n",
              "16   271429.22\n",
              "17  3488284.78\n",
              "18  2549827.40\n",
              "19  7379737.39"
            ]
          },
          "metadata": {
            "tags": []
          },
          "execution_count": 132
        }
      ]
    },
    {
      "cell_type": "code",
      "metadata": {
        "colab": {
          "base_uri": "https://localhost:8080/",
          "height": 289
        },
        "id": "93OcnbfoZvBu",
        "outputId": "626aa5ba-15e6-4ffc-d44f-34c0830ad1ef"
      },
      "source": [
        "plt.scatter(x,y)\r\n",
        "plt.show()"
      ],
      "execution_count": null,
      "outputs": [
        {
          "output_type": "display_data",
          "data": {
            "image/png": "[encoded data removed]",
            "text/plain": [
              "<Figure size 432x288 with 1 Axes>"
            ]
          },
          "metadata": {
            "tags": [],
            "needs_background": "light"
          }
        }
      ]
    },
    {
      "cell_type": "code",
      "metadata": {
        "id": "hWKMN2mhd4dj"
      },
      "source": [
        "feature =[\t'AvgExports',\t'MaxExports',\t'AvgGrowth'\t,'YrsPositiveGrowth']\r\n",
        "freture_names=[\t'AvgExports($)',\t'MaxExports($)',\t'AvgGrowth(%YoY)'\t,'#YrsPositiveGrowth']\r\n",
        "feature_longnames=['Avgerage value Exports($)',\t'Max value Exports($)',\t'Avgerage Growth(%YoY)'\t,'#Years PositiveGrowth'\t]"
      ],
      "execution_count": null,
      "outputs": []
    },
    {
      "cell_type": "code",
      "metadata": {
        "colab": {
          "base_uri": "https://localhost:8080/",
          "height": 1000
        },
        "id": "l6gg1dBiZ4p-",
        "outputId": "17a23183-f55e-4426-8074-95fbd102fb47"
      },
      "source": [
        "for i in range(4):\r\n",
        "  fig=plt.figure()\r\n",
        "  fig.subplots_adjust(hspace=0.4,wspace=0.4)\r\n",
        "  for j in range(4):\r\n",
        "    ax=fig.add_subplot(2,2,j+1)\r\n",
        "    ax.scatter(feature[i],feature[j],data=df,c='hotpink')\r\n",
        "    ax.set_xlabel (feature_longnames[i])\r\n",
        "    ax.set_ylabel (feature_longnames[j])\r\n",
        "    ax.set_title ('(Pair-wise) Feature scatter')"
      ],
      "execution_count": null,
      "outputs": [
        {
          "output_type": "display_data",
          "data": {
            "image/png": "[encoded data removed]",
            "text/plain": [
              "<Figure size 432x288 with 4 Axes>"
            ]
          },
          "metadata": {
            "tags": [],
            "needs_background": "light"
          }
        },
        {
          "output_type": "display_data",
          "data": {
            "image/png": "[encoded data removed]",
            "text/plain": [
              "<Figure size 432x288 with 4 Axes>"
            ]
          },
          "metadata": {
            "tags": [],
            "needs_background": "light"
          }
        },
        {
          "output_type": "display_data",
          "data": {
            "image/png": "[encoded data removed]",
            "text/plain": [
              "<Figure size 432x288 with 4 Axes>"
            ]
          },
          "metadata": {
            "tags": [],
            "needs_background": "light"
          }
        },
        {
          "output_type": "display_data",
          "data": {
            "image/png": "[encoded data removed]",
            "text/plain": [
              "<Figure size 432x288 with 4 Axes>"
            ]
          },
          "metadata": {
            "tags": [],
            "needs_background": "light"
          }
        }
      ]
    },
    {
      "cell_type": "code",
      "metadata": {
        "id": "VSgemhu9c1hj"
      },
      "source": [
        "few_x=np.array(w[feature])\r\n"
      ],
      "execution_count": null,
      "outputs": []
    },
    {
      "cell_type": "code",
      "metadata": {
        "id": "-CB1CQLpiJE7"
      },
      "source": [
        "few_mu=few_x.mean(axis=0)\r\n",
        "few_sigma=few_x.std(axis=0)"
      ],
      "execution_count": null,
      "outputs": []
    },
    {
      "cell_type": "code",
      "metadata": {
        "id": "qsFw3AE5inrL"
      },
      "source": [
        "few_xs=(few_x-few_mu)/few_sigma"
      ],
      "execution_count": null,
      "outputs": []
    },
    {
      "cell_type": "code",
      "metadata": {
        "colab": {
          "base_uri": "https://localhost:8080/"
        },
        "id": "jiMeDU0PiucK",
        "outputId": "60159ebc-2613-487b-ed5b-50d8e8cd8c74"
      },
      "source": [
        "print('satndardized:')\r\n",
        "print(few_xs)\r\n",
        "print(' ')"
      ],
      "execution_count": null,
      "outputs": [
        {
          "output_type": "stream",
          "text": [
            "satndardized:\n",
            "[[-1.03889709 -1.06462148  0.24113634  0.11470787]\n",
            " [ 1.21226131  1.11252865 -0.95411319  0.11470787]\n",
            " [ 0.76816304  1.11897461  1.33090222  0.91766294]\n",
            " [ 0.92477477  0.55288621 -1.75955059 -2.29415734]\n",
            " [-0.90240186 -0.79312704  0.39452786  0.91766294]\n",
            " [-1.41118407 -1.46648834  0.97748279  0.11470787]\n",
            " [ 0.4472839   0.5398474  -0.23038543  0.11470787]]\n",
            " \n"
          ],
          "name": "stdout"
        }
      ]
    },
    {
      "cell_type": "code",
      "metadata": {
        "colab": {
          "base_uri": "https://localhost:8080/",
          "height": 349
        },
        "id": "IP4NUfCmnEBR",
        "outputId": "367dad1f-7cfb-439c-9e30-615747771e03"
      },
      "source": [
        "from scipy.cluster.hierarchy import dendrogram,linkage\r\n",
        "Z=linkage(few_xs,'complete')\r\n",
        "few_cluster_labels=np.array(w['PartnerCountry'])\r\n",
        "fig=plt.figure()\r\n",
        "ax=fig.add_subplot(1,1,1)\r\n",
        "dendrogram(few_Z,labels=few_cluster_labels,leaf_rotation=90)\r\n",
        "ax.set_title('cluster dendo')\r\n",
        "ax.set_xlabel('(Euclidean) Distance')\r\n",
        "ax.set_ylabel('(Hierarchai)cluster Dendrogram - linkage=')\r\n",
        "few_iter_clusterIDs=['clusterID(k=1)']"
      ],
      "execution_count": null,
      "outputs": [
        {
          "output_type": "display_data",
          "data": {
            "image/png": "[encoded data removed]",
            "text/plain": [
              "<Figure size 432x288 with 1 Axes>"
            ]
          },
          "metadata": {
            "tags": [],
            "needs_background": "light"
          }
        }
      ]
    },
    {
      "cell_type": "code",
      "metadata": {
        "colab": {
          "base_uri": "https://localhost:8080/"
        },
        "id": "P6mdt0_03SW8",
        "outputId": "1f899fde-9905-4785-fd4b-bb07ecca1a57"
      },
      "source": [
        "from scipy.cluster.hierarchy import fcluster\r\n",
        "few_iter_clusterIDs=['ClusterID(k=1)','ClusterID(k=2)','ClusterID(k=3)','ClusterID(k=4)','ClusterID(k=5)','ClusterID(k=6)','ClusterID(k=7)']\r\n",
        "for k in range(7):\r\n",
        "    w[few_iter_clusterIDs[k]]=fcluster(Z,t=k+1,criterion='maxclust')\r\n",
        "w.info()\r\n",
        "w.to_csv('(few)Textiles(cluster IDs).csv')\r\n",
        "few_fields=np.insert(few_iter_clusterIDs,0,'PartnerCountry')\r\n",
        "print (w[few_fields])\r\n",
        "       "
      ],
      "execution_count": null,
      "outputs": [
        {
          "output_type": "stream",
          "text": [
            "<class 'pandas.core.frame.DataFrame'>\n",
            "RangeIndex: 7 entries, 0 to 6\n",
            "Data columns (total 14 columns):\n",
            " #   Column             Non-Null Count  Dtype  \n",
            "---  ------             --------------  -----  \n",
            " 0   PartnerCountry     7 non-null      object \n",
            " 1   PartnerContinent   7 non-null      object \n",
            " 2   DevelopmentStatus  7 non-null      object \n",
            " 3   AvgExports         7 non-null      float64\n",
            " 4   MaxExports         7 non-null      float64\n",
            " 5   AvgGrowth          7 non-null      float64\n",
            " 6   YrsPositiveGrowth  7 non-null      int64  \n",
            " 7   ClusterID(k=1)     7 non-null      int32  \n",
            " 8   ClusterID(k=2)     7 non-null      int32  \n",
            " 9   ClusterID(k=3)     7 non-null      int32  \n",
            " 10  ClusterID(k=4)     7 non-null      int32  \n",
            " 11  ClusterID(k=5)     7 non-null      int32  \n",
            " 12  ClusterID(k=6)     7 non-null      int32  \n",
            " 13  ClusterID(k=7)     7 non-null      int32  \n",
            "dtypes: float64(3), int32(7), int64(1), object(3)\n",
            "memory usage: 716.0+ bytes\n",
            "  PartnerCountry  ClusterID(k=1)  ...  ClusterID(k=6)  ClusterID(k=7)\n",
            "0      Argentina               1  ...               1               1\n",
            "1        Belgium               1  ...               3               3\n",
            "2         Brazil               1  ...               4               4\n",
            "3         Canada               1  ...               5               5\n",
            "4          Chile               1  ...               1               1\n",
            "5     Costa Rica               1  ...               2               2\n",
            "6          Egypt               1  ...               3               3\n",
            "\n",
            "[7 rows x 8 columns]\n"
          ],
          "name": "stdout"
        },
        {
          "output_type": "stream",
          "text": [
            "/usr/local/lib/python3.7/dist-packages/ipykernel_launcher.py:4: SettingWithCopyWarning: \n",
            "A value is trying to be set on a copy of a slice from a DataFrame.\n",
            "Try using .loc[row_indexer,col_indexer] = value instead\n",
            "\n",
            "See the caveats in the documentation: https://pandas.pydata.org/pandas-docs/stable/user_guide/indexing.html#returning-a-view-versus-a-copy\n",
            "  after removing the cwd from sys.path.\n"
          ],
          "name": "stderr"
        }
      ]
    },
    {
      "cell_type": "code",
      "metadata": {
        "id": "gdx152gY4NHr"
      },
      "source": [
        ""
      ],
      "execution_count": null,
      "outputs": []
    }
  ]
}
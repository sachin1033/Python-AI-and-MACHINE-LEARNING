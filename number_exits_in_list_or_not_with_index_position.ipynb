{
  "nbformat": 4,
  "nbformat_minor": 0,
  "metadata": {
    "colab": {
      "name": "number exits in list or not with index position",
      "provenance": [],
      "authorship_tag": "ABX9TyPzvpuPEZITLs+EAUg9UwzR",
      "include_colab_link": true
    },
    "kernelspec": {
      "name": "python3",
      "display_name": "Python 3"
    },
    "language_info": {
      "name": "python"
    }
  },
  "cells": [
    {
      "cell_type": "markdown",
      "metadata": {
        "id": "view-in-github",
        "colab_type": "text"
      },
      "source": [
        "<a href=\"https://colab.research.google.com/github/sachin1033/Python-AI-and-MACHINE-LEARNING/blob/main/number_exits_in_list_or_not_with_index_position.ipynb\" target=\"_parent\"><img src=\"https://colab.research.google.com/assets/colab-badge.svg\" alt=\"Open In Colab\"/></a>"
      ]
    },
    {
      "cell_type": "code",
      "metadata": {
        "colab": {
          "base_uri": "https://localhost:8080/"
        },
        "id": "y3IPNfChXa4s",
        "outputId": "df68b167-25a0-4686-aa2d-44cdbcc75c5c"
      },
      "source": [
        "list=[4,5,6,7]\n",
        "for i in list:\n",
        "  if i==5:\n",
        "    print('exists')\n",
        "  else:\n",
        "    print('not exists')"
      ],
      "execution_count": 37,
      "outputs": [
        {
          "output_type": "stream",
          "text": [
            "not exists\n",
            "exists\n",
            "not exists\n",
            "not exists\n"
          ],
          "name": "stdout"
        }
      ]
    },
    {
      "cell_type": "code",
      "metadata": {
        "id": "ag_7Fa0TXucR"
      },
      "source": [
        ""
      ],
      "execution_count": null,
      "outputs": []
    }
  ]
}
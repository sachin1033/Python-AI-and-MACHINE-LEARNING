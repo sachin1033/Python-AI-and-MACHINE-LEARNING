{
  "nbformat": 4,
  "nbformat_minor": 0,
  "metadata": {
    "colab": {
      "name": "reversing the number",
      "provenance": [],
      "authorship_tag": "ABX9TyOHgUjgcS4/blEiHK4AKk1/",
      "include_colab_link": true
    },
    "kernelspec": {
      "name": "python3",
      "display_name": "Python 3"
    },
    "language_info": {
      "name": "python"
    }
  },
  "cells": [
    {
      "cell_type": "markdown",
      "metadata": {
        "id": "view-in-github",
        "colab_type": "text"
      },
      "source": [
        "<a href=\"https://colab.research.google.com/github/sachin1033/Python-AI-and-MACHINE-LEARNING/blob/main/reversing_the_number%204.ipynb\" target=\"_parent\"><img src=\"https://colab.research.google.com/assets/colab-badge.svg\" alt=\"Open In Colab\"/></a>"
      ]
    },
    {
      "cell_type": "code",
      "metadata": {
        "colab": {
          "base_uri": "https://localhost:8080/"
        },
        "id": "epA5vV7LTN0X",
        "outputId": "cc112d7d-ae44-4c79-a3de-1389629a7cf6"
      },
      "source": [
        "def solution(x):\n",
        "    string = str(x)\n",
        "    \n",
        "    if string[0] == '-':\n",
        "        return int('-'+string[:0:-1])\n",
        "    else:\n",
        "        return int(string[::-1])\n",
        "    \n",
        "print(solution(-231))\n",
        "print(solution(345))"
      ],
      "execution_count": 1,
      "outputs": [
        {
          "output_type": "stream",
          "text": [
            "-132\n",
            "543\n"
          ],
          "name": "stdout"
        }
      ]
    },
    {
      "cell_type": "code",
      "metadata": {
        "id": "r1Fsj52cXF6m"
      },
      "source": [
        ""
      ],
      "execution_count": null,
      "outputs": []
    }
  ]
}